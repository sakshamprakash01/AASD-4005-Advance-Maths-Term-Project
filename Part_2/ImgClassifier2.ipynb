{
 "cells": [
  {
   "cell_type": "code",
   "execution_count": 69,
   "metadata": {},
   "outputs": [],
   "source": [
    "import cv2 as cv\n",
    "import os\n",
    "import pandas as pd\n",
    "import numpy as np"
   ]
  },
  {
   "cell_type": "code",
   "execution_count": 70,
   "metadata": {},
   "outputs": [],
   "source": [
    "def load(path):\n",
    "    x = []\n",
    "    y = []\n",
    "    for brand in os.listdir(path):\n",
    "        for img in os.listdir(os.path.join(path,brand)):\n",
    "            img = cv.imread(os.path.join(path,brand,img))\n",
    "            x.append(img)\n",
    "            y.append(os.listdir(path).index(brand))\n",
    "    return x,y"
   ]
  },
  {
   "cell_type": "code",
   "execution_count": 71,
   "metadata": {},
   "outputs": [
    {
     "name": "stdout",
     "output_type": "stream",
     "text": [
      "Train 711 711\n",
      "Test 114 114\n"
     ]
    }
   ],
   "source": [
    "x_train, y_train = load('Dataset/train/')\n",
    "x_test, y_test = load('Dataset/test/')\n",
    "print('Train',len(x_train),len(y_train))\n",
    "print('Test',len(x_test),len(y_test))\n",
    "# 0 = adidas\n",
    "# 1 = converse\n",
    "# 2 = nike"
   ]
  },
  {
   "cell_type": "code",
   "execution_count": 72,
   "metadata": {},
   "outputs": [
    {
     "name": "stdout",
     "output_type": "stream",
     "text": [
      "2\n"
     ]
    }
   ],
   "source": [
    "def show(img):\n",
    "    cv.imshow('test',img)\n",
    "    cv.waitKey(0)\n",
    "    cv.destroyAllWindows()\n",
    "i = 500 #Random Testing\n",
    "print(y_train[i])\n",
    "show(x_train[i])"
   ]
  },
  {
   "cell_type": "code",
   "execution_count": 73,
   "metadata": {},
   "outputs": [],
   "source": [
    "def preProcess(img):\n",
    "    img = cv.resize(img, (300,300))\n",
    "    img = cv.cvtColor(img, cv.COLOR_BGR2GRAY)\n",
    "    return img.flatten()"
   ]
  },
  {
   "cell_type": "code",
   "execution_count": 74,
   "metadata": {},
   "outputs": [],
   "source": [
    "x_train = [preProcess(x) for x in x_train]\n",
    "x_test = [preProcess(x) for x in x_test]"
   ]
  },
  {
   "cell_type": "code",
   "execution_count": 75,
   "metadata": {},
   "outputs": [
    {
     "name": "stdout",
     "output_type": "stream",
     "text": [
      "<class 'sklearn.naive_bayes.GaussianNB'>\n",
      "0.37719298245614036\n",
      "              precision    recall  f1-score   support\n",
      "\n",
      "           0       0.39      0.71      0.50        38\n",
      "           1       0.33      0.03      0.05        38\n",
      "           2       0.36      0.39      0.38        38\n",
      "\n",
      "    accuracy                           0.38       114\n",
      "   macro avg       0.36      0.38      0.31       114\n",
      "weighted avg       0.36      0.38      0.31       114\n",
      "\n",
      "<class 'sklearn.linear_model._logistic.LogisticRegression'>\n",
      "0.47368421052631576\n",
      "              precision    recall  f1-score   support\n",
      "\n",
      "           0       0.49      0.53      0.51        38\n",
      "           1       0.47      0.53      0.49        38\n",
      "           2       0.47      0.37      0.41        38\n",
      "\n",
      "    accuracy                           0.47       114\n",
      "   macro avg       0.47      0.47      0.47       114\n",
      "weighted avg       0.47      0.47      0.47       114\n",
      "\n",
      "<class 'sklearn.svm._classes.SVC'>\n",
      "0.543859649122807\n",
      "              precision    recall  f1-score   support\n",
      "\n",
      "           0       0.51      0.58      0.54        38\n",
      "           1       0.76      0.42      0.54        38\n",
      "           2       0.48      0.63      0.55        38\n",
      "\n",
      "    accuracy                           0.54       114\n",
      "   macro avg       0.58      0.54      0.54       114\n",
      "weighted avg       0.58      0.54      0.54       114\n",
      "\n",
      "<class 'sklearn.tree._classes.DecisionTreeClassifier'>\n",
      "0.30701754385964913\n",
      "              precision    recall  f1-score   support\n",
      "\n",
      "           0       0.24      0.29      0.27        38\n",
      "           1       0.35      0.37      0.36        38\n",
      "           2       0.34      0.26      0.30        38\n",
      "\n",
      "    accuracy                           0.31       114\n",
      "   macro avg       0.31      0.31      0.31       114\n",
      "weighted avg       0.31      0.31      0.31       114\n",
      "\n",
      "<class 'sklearn.ensemble._forest.RandomForestClassifier'>\n",
      "0.5614035087719298\n",
      "              precision    recall  f1-score   support\n",
      "\n",
      "           0       0.58      0.55      0.57        38\n",
      "           1       0.58      0.47      0.52        38\n",
      "           2       0.53      0.66      0.59        38\n",
      "\n",
      "    accuracy                           0.56       114\n",
      "   macro avg       0.57      0.56      0.56       114\n",
      "weighted avg       0.57      0.56      0.56       114\n",
      "\n"
     ]
    }
   ],
   "source": [
    "from sklearn.naive_bayes import GaussianNB\n",
    "from sklearn.svm import SVC\n",
    "from sklearn.ensemble import RandomForestClassifier\n",
    "from sklearn.tree import DecisionTreeClassifier\n",
    "from sklearn.linear_model import LogisticRegression\n",
    "from sklearn.metrics import accuracy_score, classification_report\n",
    "\n",
    "def getAccuracy(Model):\n",
    "    modelInst = Model()\n",
    "    modelInst.fit(x_train, y_train)\n",
    "    y_pred = modelInst.predict(x_test)\n",
    "    return accuracy_score(y_test, y_pred), classification_report(y_test, y_pred)\n",
    "\n",
    "for model in [GaussianNB, LogisticRegression, SVC, DecisionTreeClassifier, RandomForestClassifier]:\n",
    "    print(model)\n",
    "    reports = getAccuracy(model)\n",
    "    print(reports[0])\n",
    "    print(reports[1])\n",
    "\n",
    "# reports = getAccuracy(LogisticRegression)\n",
    "# print(reports[0])\n",
    "# print(reports[1])"
   ]
  },
  {
   "cell_type": "code",
   "execution_count": null,
   "metadata": {},
   "outputs": [],
   "source": [
    "from sklearn.model_selection import GridSearchCV\n",
    "svc = SVC()\n",
    "param = {'C': [1, 5, 10, 50],\n",
    "         'gamma': [0.0001, 0.0005, 0.001, 0.005]}\n",
    "grid = GridSearchCV(svc, param, n_jobs=8)\n",
    "grid.fit(x_train, y_train)\n",
    "y_pred = grid.predict(x_test)\n",
    "print(accuracy_score(y_test, y_pred))\n",
    "print(classification_report(y_test, y_pred))"
   ]
  },
  {
   "cell_type": "markdown",
   "metadata": {},
   "source": [
    "# Deeplearning"
   ]
  },
  {
   "cell_type": "code",
   "execution_count": 77,
   "metadata": {},
   "outputs": [],
   "source": [
    "# Importing Libraries\n",
    "from tensorflow import keras\n",
    "from tensorflow.keras.applications.inception_v3 import InceptionV3\n",
    "from tensorflow.keras.preprocessing.image import ImageDataGenerator\n",
    "from tensorflow.keras.models import Sequential\n",
    "from tensorflow.keras.layers import Dense, Dropout, GlobalAveragePooling2D\n",
    "from tensorflow.keras import optimizers\n",
    "from tensorflow.keras.callbacks import ModelCheckpoint\n",
    "\n",
    "import numpy as np\n",
    "import matplotlib.pyplot as plt\n",
    "\n",
    "import warnings\n",
    "warnings.filterwarnings(\"ignore\")"
   ]
  },
  {
   "cell_type": "code",
   "execution_count": 78,
   "metadata": {},
   "outputs": [
    {
     "name": "stdout",
     "output_type": "stream",
     "text": [
      "Found 744 images belonging to 3 classes.\n",
      "Found 81 images belonging to 3 classes.\n"
     ]
    }
   ],
   "source": [
    "datagenerator = {\n",
    "    \"train\": ImageDataGenerator(horizontal_flip=True,\n",
    "                                vertical_flip=True,\n",
    "                                rescale=1. / 255,\n",
    "                                validation_split=0.1,\n",
    "                                shear_range=0.1,\n",
    "                                zoom_range=0.1,\n",
    "                                width_shift_range=0.1,\n",
    "                                height_shift_range=0.1,\n",
    "                                rotation_range=30,\n",
    "                               ).flow_from_directory(directory='Dataset/merged',\n",
    "                                                     target_size=(300, 300),\n",
    "                                                     subset='training',\n",
    "                                                    ),\n",
    "\n",
    "    \"valid\": ImageDataGenerator(rescale=1 / 255,\n",
    "                                validation_split=0.1,\n",
    "                               ).flow_from_directory(directory='Dataset/merged',\n",
    "                                                     target_size=(300, 300),\n",
    "                                                     subset='validation',\n",
    "                                                    ),\n",
    "}"
   ]
  },
  {
   "cell_type": "code",
   "execution_count": 79,
   "metadata": {},
   "outputs": [],
   "source": [
    "base_model = InceptionV3(weights=None, include_top=False, input_shape=(300, 300, 3))\n",
    "base_model.load_weights('/home/saksham/GBC/Maths-II/AASD-4005-Advance-Maths-Term-Project/Part_2/inception_v3_weights_tf_dim_ordering_tf_kernels_notop.h5')\n",
    "base_model.trainable = False"
   ]
  },
  {
   "cell_type": "code",
   "execution_count": 80,
   "metadata": {},
   "outputs": [],
   "source": [
    "model = Sequential([\n",
    "    base_model,\n",
    "    GlobalAveragePooling2D(),\n",
    "    Dropout(0.15),\n",
    "    Dense(1024, activation='relu'),\n",
    "    Dense(512, activation='relu'),\n",
    "    Dense(3, activation='softmax')\n",
    "])"
   ]
  },
  {
   "cell_type": "code",
   "execution_count": 81,
   "metadata": {},
   "outputs": [],
   "source": [
    "opt = optimizers.Adam(learning_rate=0.0001)\n",
    "model.compile(loss=\"categorical_crossentropy\", optimizer=opt, metrics=['accuracy'])"
   ]
  },
  {
   "cell_type": "code",
   "execution_count": 82,
   "metadata": {},
   "outputs": [
    {
     "name": "stdout",
     "output_type": "stream",
     "text": [
      "Model: \"sequential_1\"\n",
      "_________________________________________________________________\n",
      " Layer (type)                Output Shape              Param #   \n",
      "=================================================================\n",
      " inception_v3 (Functional)   (None, 8, 8, 2048)        21802784  \n",
      "                                                                 \n",
      " global_average_pooling2d_1   (None, 2048)             0         \n",
      " (GlobalAveragePooling2D)                                        \n",
      "                                                                 \n",
      " dropout_1 (Dropout)         (None, 2048)              0         \n",
      "                                                                 \n",
      " dense_2 (Dense)             (None, 1024)              2098176   \n",
      "                                                                 \n",
      " dense_3 (Dense)             (None, 512)               524800    \n",
      "                                                                 \n",
      " dense_4 (Dense)             (None, 3)                 1539      \n",
      "                                                                 \n",
      "=================================================================\n",
      "Total params: 24,427,299\n",
      "Trainable params: 2,624,515\n",
      "Non-trainable params: 21,802,784\n",
      "_________________________________________________________________\n"
     ]
    }
   ],
   "source": [
    "model.summary()"
   ]
  },
  {
   "cell_type": "code",
   "execution_count": 83,
   "metadata": {},
   "outputs": [],
   "source": [
    "batch_size = 32\n",
    "epochs = 10\n",
    "\n",
    "train_generator = datagenerator[\"train\"]\n",
    "valid_generator = datagenerator[\"valid\"]"
   ]
  },
  {
   "cell_type": "code",
   "execution_count": 84,
   "metadata": {},
   "outputs": [
    {
     "name": "stdout",
     "output_type": "stream",
     "text": [
      "steps_per_epoch : 23\n",
      "validation_steps : 2\n"
     ]
    }
   ],
   "source": [
    "steps_per_epoch = train_generator.n // batch_size\n",
    "validation_steps = valid_generator.n // batch_size\n",
    "\n",
    "print(\"steps_per_epoch :\", steps_per_epoch)\n",
    "print(\"validation_steps :\", validation_steps)"
   ]
  },
  {
   "cell_type": "code",
   "execution_count": 95,
   "metadata": {},
   "outputs": [
    {
     "name": "stdout",
     "output_type": "stream",
     "text": [
      "Epoch 1/10\n",
      "23/23 [==============================] - ETA: 0s - loss: 0.4368 - accuracy: 0.8230\n",
      "Epoch 1: val_accuracy improved from -inf to 0.82812, saving model to ./model_01-0.83.h5\n",
      "23/23 [==============================] - 8s 366ms/step - loss: 0.4368 - accuracy: 0.8230 - val_loss: 0.5435 - val_accuracy: 0.8281\n",
      "Epoch 2/10\n",
      "23/23 [==============================] - ETA: 0s - loss: 0.3827 - accuracy: 0.8596\n",
      "Epoch 2: val_accuracy did not improve from 0.82812\n",
      "23/23 [==============================] - 8s 324ms/step - loss: 0.3827 - accuracy: 0.8596 - val_loss: 0.5934 - val_accuracy: 0.8281\n",
      "Epoch 3/10\n",
      "23/23 [==============================] - ETA: 0s - loss: 0.3716 - accuracy: 0.8539\n",
      "Epoch 3: val_accuracy did not improve from 0.82812\n",
      "23/23 [==============================] - 7s 323ms/step - loss: 0.3716 - accuracy: 0.8539 - val_loss: 0.5434 - val_accuracy: 0.8125\n",
      "Epoch 4/10\n",
      "23/23 [==============================] - ETA: 0s - loss: 0.3443 - accuracy: 0.8624\n",
      "Epoch 4: val_accuracy improved from 0.82812 to 0.84375, saving model to ./model_04-0.84.h5\n",
      "23/23 [==============================] - 8s 344ms/step - loss: 0.3443 - accuracy: 0.8624 - val_loss: 0.5232 - val_accuracy: 0.8438\n",
      "Epoch 5/10\n",
      "23/23 [==============================] - ETA: 0s - loss: 0.3608 - accuracy: 0.8666\n",
      "Epoch 5: val_accuracy did not improve from 0.84375\n",
      "23/23 [==============================] - 8s 344ms/step - loss: 0.3608 - accuracy: 0.8666 - val_loss: 0.6181 - val_accuracy: 0.8125\n",
      "Epoch 6/10\n",
      "23/23 [==============================] - ETA: 0s - loss: 0.3872 - accuracy: 0.8441\n",
      "Epoch 6: val_accuracy did not improve from 0.84375\n",
      "23/23 [==============================] - 8s 340ms/step - loss: 0.3872 - accuracy: 0.8441 - val_loss: 0.5606 - val_accuracy: 0.8438\n",
      "Epoch 7/10\n",
      "23/23 [==============================] - ETA: 0s - loss: 0.3587 - accuracy: 0.8511\n",
      "Epoch 7: val_accuracy did not improve from 0.84375\n",
      "23/23 [==============================] - 8s 343ms/step - loss: 0.3587 - accuracy: 0.8511 - val_loss: 0.5713 - val_accuracy: 0.8125\n",
      "Epoch 8/10\n",
      "23/23 [==============================] - ETA: 0s - loss: 0.3478 - accuracy: 0.8596\n",
      "Epoch 8: val_accuracy did not improve from 0.84375\n",
      "23/23 [==============================] - 8s 348ms/step - loss: 0.3478 - accuracy: 0.8596 - val_loss: 0.5876 - val_accuracy: 0.7969\n",
      "Epoch 9/10\n",
      "23/23 [==============================] - ETA: 0s - loss: 0.3162 - accuracy: 0.8792\n",
      "Epoch 9: val_accuracy did not improve from 0.84375\n",
      "23/23 [==============================] - 8s 344ms/step - loss: 0.3162 - accuracy: 0.8792 - val_loss: 0.6554 - val_accuracy: 0.8125\n",
      "Epoch 10/10\n",
      "23/23 [==============================] - ETA: 0s - loss: 0.3623 - accuracy: 0.8652\n",
      "Epoch 10: val_accuracy did not improve from 0.84375\n",
      "23/23 [==============================] - 8s 338ms/step - loss: 0.3623 - accuracy: 0.8652 - val_loss: 0.5369 - val_accuracy: 0.7812\n"
     ]
    }
   ],
   "source": [
    "filepath = \"./model_{epoch:02d}-{val_accuracy:.2f}.h5\"\n",
    "\n",
    "checkpoint1 = ModelCheckpoint(filepath, monitor='val_accuracy', verbose=1, save_best_only=True, mode='max')\n",
    "\n",
    "callbacks_list = [checkpoint1]\n",
    "history = model.fit_generator(generator=train_generator, epochs=epochs, steps_per_epoch=steps_per_epoch,\n",
    "                              validation_data=valid_generator, validation_steps=validation_steps,\n",
    "                              callbacks=callbacks_list)"
   ]
  },
  {
   "cell_type": "code",
   "execution_count": 102,
   "metadata": {},
   "outputs": [
    {
     "name": "stdout",
     "output_type": "stream",
     "text": [
      "3/3 [==============================] - 1s 53ms/step - loss: 0.5714 - accuracy: 0.8272\n",
      "test accuracy :  0.8271604776382446\n"
     ]
    }
   ],
   "source": [
    "loaded_best_model = keras.models.load_model(\"model_04-0.84.h5\")\n",
    "test_loss, test_acc = loaded_best_model.evaluate(valid_generator)\n",
    "print('test accuracy : ', test_acc)"
   ]
  },
  {
   "cell_type": "code",
   "execution_count": 103,
   "metadata": {},
   "outputs": [
    {
     "data": {
      "image/png": "[encoded data removed]",
      "text/plain": [
       "<Figure size 576x576 with 2 Axes>"
      ]
     },
     "metadata": {
      "needs_background": "light"
     },
     "output_type": "display_data"
    }
   ],
   "source": [
    "acc = history.history['accuracy']\n",
    "val_acc = history.history['val_accuracy']\n",
    "\n",
    "loss = history.history['loss']\n",
    "val_loss = history.history['val_loss']\n",
    "\n",
    "plt.figure(figsize=(8, 8))\n",
    "plt.subplot(2, 1, 1)\n",
    "plt.plot(acc, label='Training Accuracy')\n",
    "plt.plot(val_acc, label='Validation Accuracy')\n",
    "plt.legend(loc='lower right')\n",
    "plt.ylabel('Accuracy')\n",
    "plt.ylim([min(plt.ylim()),1])\n",
    "plt.title('Training and Validation Accuracy')\n",
    "\n",
    "plt.subplot(2, 1, 2)\n",
    "plt.plot(loss, label='Training Loss')\n",
    "plt.plot(val_loss, label='Validation Loss')\n",
    "plt.legend(loc='upper right')\n",
    "plt.ylabel('Cross Entropy')\n",
    "plt.ylim([0,max(plt.ylim())])\n",
    "plt.title('Training and Validation Loss')\n",
    "plt.show()"
   ]
  },
  {
   "cell_type": "code",
   "execution_count": 104,
   "metadata": {},
   "outputs": [],
   "source": [
    "def predict(path):\n",
    "    img = cv.imread(path)\n",
    "    img = cv.resize(img, (300,300))\n",
    "    img = img/255.0\n",
    "\n",
    "    p = loaded_best_model.predict(img[np.newaxis, ...])\n",
    "\n",
    "    labels = {0: 'adidas', 1: 'converse', 2: 'nike'}\n",
    "    for i,j in zip(list(labels.values()),list(p[0])):\n",
    "        print(i,j)"
   ]
  },
  {
   "cell_type": "code",
   "execution_count": 105,
   "metadata": {},
   "outputs": [
    {
     "name": "stdout",
     "output_type": "stream",
     "text": [
      "1/1 [==============================] - 1s 732ms/step\n",
      "adidas 0.08757732\n",
      "converse 0.13458873\n",
      "nike 0.777834\n"
     ]
    }
   ],
   "source": [
    "predict('Dataset/train/nike/62.jpg')"
   ]
  },
  {
   "cell_type": "code",
   "execution_count": 106,
   "metadata": {},
   "outputs": [
    {
     "name": "stdout",
     "output_type": "stream",
     "text": [
      "1/1 [==============================] - 0s 23ms/step\n",
      "adidas 0.9809837\n",
      "converse 0.0031029969\n",
      "nike 0.01591338\n"
     ]
    }
   ],
   "source": [
    "predict('Dataset/test/adidas/5.jpg')"
   ]
  },
  {
   "cell_type": "code",
   "execution_count": 107,
   "metadata": {},
   "outputs": [
    {
     "name": "stdout",
     "output_type": "stream",
     "text": [
      "1/1 [==============================] - 0s 22ms/step\n",
      "adidas 0.068535514\n",
      "converse 0.9041755\n",
      "nike 0.027289014\n"
     ]
    }
   ],
   "source": [
    "predict('Dataset/test/converse/13.jpg')"
   ]
  },
  {
   "cell_type": "code",
   "execution_count": null,
   "metadata": {},
   "outputs": [],
   "source": []
  },
  {
   "cell_type": "code",
   "execution_count": null,
   "metadata": {},
   "outputs": [],
   "source": []
  }
 ],
 "metadata": {
  "kernelspec": {
   "display_name": "Python 3.8.0 ('gbc')",
   "language": "python",
   "name": "python3"
  },
  "language_info": {
   "codemirror_mode": {
    "name": "ipython",
    "version": 3
   },
   "file_extension": ".py",
   "mimetype": "text/x-python",
   "name": "python",
   "nbconvert_exporter": "python",
   "pygments_lexer": "ipython3",
   "version": "3.8.0"
  },
  "orig_nbformat": 4,
  "vscode": {
   "interpreter": {
    "hash": "b7fc9e41d08f1327a21a6ba79d04c4d33b1d1f6dcc0640cf089643e1772d8b5e"
   }
  }
 },
 "nbformat": 4,
 "nbformat_minor": 2
}
